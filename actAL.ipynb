{
  "cells": [
    {
      "cell_type": "markdown",
      "metadata": {
        "id": "view-in-github",
        "colab_type": "text"
      },
      "source": [
        "<a href=\"https://colab.research.google.com/github/cero1979/MMAFLIB/blob/main/actAL.ipynb\" target=\"_parent\"><img src=\"https://colab.research.google.com/assets/colab-badge.svg\" alt=\"Open In Colab\"/></a>"
      ]
    },
    {
      "cell_type": "markdown",
      "metadata": {
        "id": "6EnqtVDb5Z6J"
      },
      "source": [
        "# 🚗 Actividad: Ruta Segura para un Vehículo Autónomo\n",
        "\n",
        "**Curso:** Álgebra Lineal\n",
        "\n",
        "**Tema:** Aplicación de Proyecciones en 2D y Vectores Relativos\n",
        "\n",
        "**Tiempo estimado:** 1.5 horas"
      ]
    },
    {
      "cell_type": "markdown",
      "metadata": {
        "id": "cH4FnSR25Z6L"
      },
      "source": [
        "## Problema de Ingeniería\n",
        "\n",
        "Un vehículo de reparto autónomo debe viajar en **línea recta** desde un punto de carga `A` hasta un punto de entrega `B`. Cerca de su ruta se ha detectado un obstáculo estático en el punto `P`.\n",
        "\n",
        "Por seguridad, el software de navegación del vehículo debe verificar que la ruta no lo lleve a **menos de 5 metros** del obstáculo.\n",
        "\n",
        "Las coordenadas del mapa (en metros) son:\n",
        "- Punto de carga: `A = [10, 5]`\n",
        "- Punto de entrega: `B = [90, 65]`\n",
        "- Ubicación del obstáculo: `P = [50, 70]`\n",
        "\n",
        "Como ingeniero de software, tu tarea es programar una verificación de seguridad usando álgebra lineal.\n",
        "\n",
        "\n",
        "\n",
        "> **Pregunta a resolver:**\n",
        "> 1. ¿Cuáles son las **coordenadas exactas** del punto en la trayectoria del vehículo que está más cerca del obstáculo?\n",
        "> 2. ¿Cuál es esta **distancia mínima** entre el vehículo y el obstáculo?\n",
        "> 3. Concluye: ¿Es **segura** la ruta programada?"
      ]
    },
    {
      "cell_type": "markdown",
      "metadata": {
        "id": "IvlUx3Wn5Z6M"
      },
      "source": [
        "---"
      ]
    },
    {
      "cell_type": "markdown",
      "metadata": {
        "id": "4VmxBsvC5Z6M"
      },
      "source": [
        "## Herramientas de Código\n",
        "\n",
        "**No necesitas programar nada nuevo**. Solo debes usar y modificar los dos bloques de código que se presentan a continuación con los vectores correctos del problema."
      ]
    },
    {
      "cell_type": "markdown",
      "metadata": {
        "id": "TcSmAzmA5Z6M"
      },
      "source": [
        "### Código 1: Para calcular la longitud (norma) de un vector\n",
        "\n",
        "Este código calcula la magnitud de un vector `a`."
      ]
    },
    {
      "cell_type": "code",
      "execution_count": null,
      "metadata": {
        "id": "SvhZ-QRQ5Z6M"
      },
      "outputs": [],
      "source": [
        "import numpy as np\n",
        "\n",
        "# Vector 2D de ejemplo\n",
        "a = np.array([3, 4])\n",
        "\n",
        "ds = np.linalg.norm(a)\n",
        "\n",
        "print(ds)"
      ]
    },
    {
      "cell_type": "markdown",
      "metadata": {
        "id": "JoqQVOZX5Z6N"
      },
      "source": [
        "### Código 2: Para calcular la proyección de un vector sobre otro\n",
        "\n",
        "Este código calcula la proyección del vector `a` sobre el vector `b`."
      ]
    },
    {
      "cell_type": "code",
      "execution_count": null,
      "metadata": {
        "id": "z_g-vOIX5Z6N"
      },
      "outputs": [],
      "source": [
        "import numpy as np\n",
        "\n",
        "# Vector 'a' que quieres proyectar (ejemplo en 2D)\n",
        "a = np.array([2, 2])\n",
        "\n",
        "# Vector 'b' sobre el cual proyectas (ejemplo en 2D)\n",
        "b = np.array([4, 5])\n",
        "\n",
        "# El código calcula el vector de proyección 'c'\n",
        "c = np.dot(a, b) / np.linalg.norm(b)**2 * b\n",
        "\n",
        "print(c)"
      ]
    },
    {
      "cell_type": "markdown",
      "metadata": {
        "id": "5DtfH2Y75Z6N"
      },
      "source": [
        "---"
      ]
    },
    {
      "cell_type": "markdown",
      "metadata": {
        "id": "5SM8GGnY5Z6N"
      },
      "source": [
        "## Procedimiento: ¡A calcular la ruta!\n",
        "\n",
        "**Idea Clave:** Como la ruta no empieza en el origen (0,0), debemos trabajar con **vectores de desplazamiento**. Trataremos el punto de partida `A` como si fuera nuestro \"origen temporal\"."
      ]
    },
    {
      "cell_type": "markdown",
      "metadata": {
        "id": "9EdFR9Mg5Z6O"
      },
      "source": [
        "### Paso 1: Definir los vectores de desplazamiento\n",
        "\n",
        "1.  **Calcula el vector director de la ruta del vehículo.** Este vector, que llamaremos `v_ruta`, describe la dirección y el recorrido del viaje. Se calcula como `v_ruta = B - A`.\n",
        "2.  **Calcula el vector desde el inicio de la ruta hasta el obstáculo.** Este vector, que llamaremos `v_obstaculo`, nos dice dónde está el obstáculo en relación con el punto de partida. Se calcula como `v_obstaculo = P - A`.\n",
        "\n",
        "*Realiza estas dos restas de vectores a mano o con calculadora y anota los resultados.*"
      ]
    },
    {
      "cell_type": "markdown",
      "metadata": {
        "id": "QZjA9Hyz5Z6O"
      },
      "source": [
        "### Paso 2: Calcular el vector de proyección\n",
        "\n",
        "Ahora encontraremos la \"sombra\" que proyecta el vector hacia el obstáculo (`v_obstaculo`) sobre la ruta del vehículo (`v_ruta`). El resultado será un vector que nos lleva desde `A` hasta el punto más cercano en la ruta.\n",
        "\n",
        "1.  **Usa el `Código 2`**.\n",
        "2.  El vector que quieres proyectar es `v_obstaculo`. Este será tu vector `a`.\n",
        "3.  El vector sobre el que proyectas es `v_ruta`. Este será tu vector `b`.\n",
        "\n",
        "Modifica y ejecuta la celda de abajo con tus vectores calculados. El resultado (`c`) es el **vector de proyección**."
      ]
    },
    {
      "cell_type": "code",
      "execution_count": null,
      "metadata": {
        "tags": [],
        "id": "6JFeDsqF5Z6O"
      },
      "outputs": [],
      "source": [
        "# MODIFICA AQUÍ\n",
        "import numpy as np\n",
        "\n",
        "# A = [10, 5], B = [90, 65], P = [50, 70]\n",
        "\n",
        "# a: vector v_obstaculo (P - A)\n",
        "a = np.array([50-10, 70-5])\n",
        "\n",
        "# b: vector v_ruta (B - A)\n",
        "b = np.array([90-10, 65-5])\n",
        "\n",
        "# El código calcula el vector de proyección 'c'\n",
        "c = np.dot(a, b) / np.linalg.norm(b)**2 * b\n",
        "\n",
        "print(\"El vector de proyección desde A es:\")\n",
        "print(c)"
      ]
    },
    {
      "cell_type": "markdown",
      "metadata": {
        "id": "RM65T45q5Z6O"
      },
      "source": [
        "### Paso 3: Determinar las coordenadas del punto más cercano\n",
        "\n",
        "El vector `c` que acabas de calcular te dice cómo moverte desde `A` para llegar al punto más cercano en la ruta. Para encontrar las coordenadas reales de ese punto (llamémoslo `Q`), debes sumar el vector `c` al punto de partida `A`.\n",
        "\n",
        "**`Q = A + c`**\n",
        "\n",
        "Realiza esta suma de vectores (usando el resultado de `c` del paso anterior) para obtener las coordenadas de `Q`."
      ]
    },
    {
      "cell_type": "markdown",
      "metadata": {
        "id": "ApHLBnS45Z6O"
      },
      "source": [
        "### Paso 4: Calcular la distancia mínima\n",
        "\n",
        "La distancia mínima es la longitud del vector que va desde el punto más cercano en la ruta (`Q`) hasta el obstáculo (`P`).\n",
        "\n",
        "1.  **Calcula el vector de distancia:** `v_dist = P - Q`.\n",
        "2.  **Usa el `Código 1`** para encontrar la norma (longitud) de `v_dist`. Modifica el vector `a` en la celda de abajo con las componentes de `v_dist` que calculaste.\n",
        "\n",
        "El resultado será la distancia mínima en metros."
      ]
    },
    {
      "cell_type": "code",
      "execution_count": null,
      "metadata": {
        "id": "rDcv0qle5Z6O"
      },
      "outputs": [],
      "source": [
        "# MODIFICA AQUÍ\n",
        "import numpy as np\n",
        "\n",
        "# Primero, calcula v_dist = P - Q\n",
        "# P = [50, 70]\n",
        "# Q = A + c = [10, 5] + [resultado de 'c' del Paso 2]\n",
        "# Ejemplo: si Q fuera [40, 40], el vector 'a' sería np.array([50-40, 70-40])\n",
        "\n",
        "# Reemplaza los valores de Q con tu resultado del Paso 3\n",
        "Q = np.array([10, 5]) + np.array([56.8, 42.6]) # ¡Usa tu propio vector 'c' aquí!\n",
        "P = np.array([50, 70])\n",
        "a = P - Q\n",
        "\n",
        "# El código calcula la norma (distancia)\n",
        "ds = np.linalg.norm(a)\n",
        "\n",
        "print(\"La distancia mínima al obstáculo es (en metros):\")\n",
        "print(ds)"
      ]
    },
    {
      "cell_type": "markdown",
      "metadata": {
        "id": "WDJ6mNbz5Z6O"
      },
      "source": [
        "---"
      ]
    },
    {
      "cell_type": "markdown",
      "metadata": {
        "id": "VaCVcGpS5Z6O"
      },
      "source": [
        "## ✅ Reporte de Seguridad\n",
        "\n",
        "Escribe tus respuestas finales aquí para determinar si la ruta es segura.\n",
        "\n",
        "**1. Coordenadas del punto más cercano en la ruta (`Q`):**\n",
        "\n",
        "   `Respuesta:`\n",
        "\n",
        "**2. Distancia mínima entre el vehículo y el obstáculo:**\n",
        "\n",
        "   `Respuesta:`\n",
        "\n",
        "**3. Conclusión de seguridad (¿La distancia es mayor a 5 metros?):**\n",
        "\n",
        "   `Respuesta:`"
      ]
    }
  ],
  "metadata": {
    "kernelspec": {
      "display_name": "Python 3",
      "language": "python",
      "name": "python3"
    },
    "language_info": {
      "codemirror_mode": {
        "name": "ipython",
        "version": 3
      },
      "file_extension": ".py",
      "mimetype": "text/x-python",
      "name": "python",
      "nbconvert_exporter": "python",
      "pygments_lexer": "ipython3",
      "version": "3.8.8"
    },
    "colab": {
      "provenance": [],
      "include_colab_link": true
    }
  },
  "nbformat": 4,
  "nbformat_minor": 0
}