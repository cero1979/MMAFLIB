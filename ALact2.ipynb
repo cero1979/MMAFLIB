{
 "cells": [
  {
   "cell_type": "markdown",
   "metadata": {},
   "source": [
    "# 🤖 Actividad: El Recomendador de IA - ¿Coincidencia Perfecta o Mejor Aproximación?\n",
    "\n",
    "**Curso:** Álgebra Lineal\n",
    "\n",
    "**Tema:** Vectorización, Sistemas de Ecuaciones y Similitud del Coseno en IA\n",
    "\n",
    "**Tiempo estimado:** 2 horas"
   ]
  },
  {
   "cell_type": "markdown",
   "metadata": {},
   "source": [
    "## Problema de Ingeniería\n",
    "\n",
    "Estás trabajando en un sistema de recomendación de películas. La IA tiene un \"cerebro\" formado por 3 perfiles de opinión base, que definen su conocimiento sobre los gustos de la gente. Cada perfil es un vector basado en las palabras clave `[\"Acción\", \"Comedia\", \"Drama\"]`.\n",
    "\n",
    "Los 3 **perfiles base** del sistema son:\n",
    "- **Perfil 1 (`p1`):** Fan de la acción pura. Vector: `[7, 1, 2]`\n",
    "- **Perfil 2 (`p2`):** Fan de la comedia. Vector: `[1, 8, 1]`\n",
    "- **Perfil 3 (`p3`):** Fan del drama intenso. Vector: `[2, 2, 7]`\n",
    "\n",
    "Estos tres vectores forman las columnas de la **matriz de conocimiento** `A` de la IA.\n",
    "\n",
    "### El Desafío\n",
    "\n",
    "Llega un nuevo usuario con una opinión sobre su película favorita. Tu **primera tarea** será convertir su opinión en un vector. Luego, usarás ese vector para determinar si su opinión encaja perfectamente con el conocimiento de la IA o si, por el contrario, necesitas encontrar el perfil más parecido.\n",
    "\n",
    "> **Preguntas a resolver:**\n",
    "> 1. ¿Cuál es el vector que representa la opinión del nuevo usuario?\n",
    "> 2. ¿Son los perfiles base del sistema un buen fundamento (son **linealmente independientes**)?\n",
    "> 3. ¿Puede la opinión del usuario ser representada **exactamente** por el sistema? (¿Tiene solución el sistema `Ax = b`?).\n",
    "> 4. Si no hay una solución exacta, ¿cuál de los tres perfiles base es el **más similar** a la opinión del usuario?"
   ]
  },
  {
   "cell_type": "markdown",
   "metadata": {},
   "source": [
    "---"
   ]
  },
  {
   "cell_type": "markdown",
   "metadata": {},
   "source": [
    "## Procedimiento\n",
    "\n",
    "Sigue los pasos en orden para llegar a la recomendación final."
   ]
  },
  {
   "cell_type": "markdown",
   "metadata": {},
   "source": [
    "### Paso 1: Convierte la Opinión del Usuario en un Vector (¡Tu Turno!)\n",
    "\n",
    "El computador no entiende palabras, solo números. Usamos un método simple llamado **\"Bolsa de Palabras con Pesos\"**. Primero, definimos un vocabulario y le asignamos puntos a cada palabra clave.\n",
    "\n",
    "**1. Vocabulario y Pesos:**\n",
    "El sistema usa la siguiente tabla para puntuar las opiniones:\n",
    "\n",
    "| Categoría | Palabras Clave y Sinónimos | Puntos por cada aparición |\n",
    "| :--- | :--- | :--- |\n",
    "| **Acción** | `acción`, `peleas`, `explosiones` | 5 puntos |\n",
    "| **Comedia** | `comedia`, `chistes`, `divertida` | 4 puntos |\n",
    "| **Drama** | `drama`, `trama`, `personajes`, `emotiva`| 4 puntos |\n",
    "| **Intensificador** | `mucho`, `increíble`, `gran` | +1 punto a su categoría |\n",
    "\n",
    "**2. La Opinión a Vectorizar:**\n",
    "Esta es la opinión del nuevo usuario:\n",
    " > *\"¡Fue una película con mucha **acción**! La **trama** fue **increíble** y también muy **divertida**.\"`\n",
    "\n",
    "**3. Tu Tarea: Calcula los Puntos y Construye el Vector**\n",
    "Lee la opinión y usa la tabla de pesos para llenar los espacios en blanco a continuación. Suma los puntos para cada categoría.\n",
    "\n",
    "- **Puntos de Acción:**\n",
    "  - Palabra 'acción' = 5 puntos\n",
    "  - Palabra 'mucha' (intensificador de acción) = 1 punto\n",
    "  - **Total Acción = ___ puntos**\n",
    "\n",
    "- **Puntos de Comedia:**\n",
    "  - Palabra 'divertida' = 4 puntos\n",
    "  - **Total Comedia = ___ puntos**\n",
    "\n",
    "- **Puntos de Drama:**\n",
    "  - Palabra 'trama' = 4 puntos\n",
    "  - Palabra 'increíble' (intensificador de trama) = 1 punto\n",
    "  - **Total Drama = ___ puntos**\n",
    "\n",
    "**El vector `b` del usuario es `[Total Acción, Total Comedia, Total Drama]`. Escríbelo aquí:**\n",
    "\n",
    "`b = [ __ , __ , __ ]`\n",
    "\n",
    "**¡Usa este vector `b` que acabas de crear para el resto de la actividad!**"
   ]
  },
  {
   "cell_type": "markdown",
   "metadata": {},
   "source": [
    "---"
   ]
  },
  {
   "cell_type": "markdown",
   "metadata": {},
   "source": [
    "### Herramientas de Código\n",
    "Ahora que tienes el vector del usuario, usa estas herramientas para analizarlo. **No necesitas programar**, solo modificar los parámetros según sea necesario."
   ]
  },
  {
   "cell_type": "markdown",
   "metadata": {},
   "source": [
    "#### Código 1: Análisis de la Matriz Base (Rango y Determinante)\n",
    "Nos dice si los vectores base son linealmente independientes."
   ]
  },
  {
   "cell_type": "code",
   "execution_count": null,
   "metadata": {},
   "outputs": [],
   "source": [
    "import numpy as np\n",
    "A = np.array([\n",
    "    [7, 1, 2],\n",
    "    [1, 8, 1],\n",
    "    [2, 2, 7]\n",
    "])\n",
    "print(f\"Rango: {np.linalg.matrix_rank(A)}\")\n",
    "print(f\"Determinante: {np.linalg.det(A):.2f}\")"
   ]
  },
  {
   "cell_type": "markdown",
   "metadata": {},
   "source": []
  },
  {
   "cell_type": "markdown",
   "metadata": {},
   "source": [
    "#### Código 2: Solucionador de Sistemas \n",
    "Nos dice si el sistema `Ax = b` tiene solución al analizar la matriz aumentada `[A|b]`."
   ]
  },
  {
   "cell_type": "code",
   "execution_count": null,
   "metadata": {},
   "outputs": [],
   "source": [
    "import sympy as sp\n",
    "# MODIFICA LA ÚLTIMA COLUMNA CON TU VECTOR b\n",
    "M = sp.Matrix([\n",
    "    [7, 1, 2, 6],\n",
    "    [1, 8, 1, 4],\n",
    "    [2, 2, 7, 5]\n",
    "])\n",
    "M_rref, pivotes = M.rref()\n",
    "print(\"Forma escalonada de la matriz aumentada:\")\n",
    "sp.pprint(M_rref)"
   ]
  },
  {
   "cell_type": "markdown",
   "metadata": {},
   "source": [
    "#### Código 3: Calculadora de Similitud del Coseno\n",
    "Mide el parecido entre dos vectores. Un valor cercano a 1 es muy similar."
   ]
  },
  {
   "cell_type": "code",
   "execution_count": null,
   "metadata": {},
   "outputs": [],
   "source": [
    "import numpy as np\n",
    "# MODIFICA EL VECTOR 'a' CON TU VECTOR b\n",
    "a = np.array([6, 4, 5]) # Vector del usuario\n",
    "b = np.array([7, 1, 2]) # Vector de un perfil\n",
    "similitud = np.dot(a, b) / (np.linalg.norm(a) * np.linalg.norm(b))\n",
    "print(f\"La similitud es: {similitud:.4f}\")"
   ]
  },
  {
   "cell_type": "markdown",
   "metadata": {},
   "source": [
    "---"
   ]
  },
  {
   "cell_type": "markdown",
   "metadata": {},
   "source": [
    "### Paso 2: Verificar la Calidad de la IA\n",
    "\n",
    "Asegúrate de que los 3 perfiles base no son redundantes.\n",
    "\n",
    "1.  Usa el **Código 1** con la matriz `A` formada por los perfiles `p1`, `p2` y `p3`.\n",
    "2.  **Interpreta el resultado:** Si el **determinante no es cero** y el **rango es 3**, la base es buena."
   ]
  },
  {
   "cell_type": "code",
   "execution_count": null,
   "metadata": {
    "tags": []
   },
   "outputs": [],
   "source": [
    "import numpy as np\n",
    "\n",
    "# Matriz A con p1, p2, p3 como columnas\n",
    "A = np.array([\n",
    "    [7, 1, 2],\n",
    "    [1, 8, 1],\n",
    "    [2, 2, 7]\n",
    "])\n",
    "\n",
    "print(f\"Analizando la matriz de conocimiento A:\\n{A}\")\n",
    "print(f\"\\nRango: {np.linalg.matrix_rank(A)}\")\n",
    "print(f\"Determinante: {np.linalg.det(A):.2f}\")"
   ]
  },
  {
   "cell_type": "markdown",
   "metadata": {},
   "source": [
    "### Paso 3: Intentar la \"Coincidencia Perfecta\"\n",
    "\n",
    "Ahora, veamos si el vector `b` que calculaste está en el espacio columna de `A`.\n",
    "\n",
    "1.  En el **Código 2**, reemplaza la última columna con los valores de tu vector `b`.\n",
    "2.  Ejecuta el código para calcular la RREF.\n",
    "3.  **Interpreta la RREF:** Si ves una fila de la forma `[0, 0, 0, 1]`, el sistema es **inconsistente** y no tiene solución."
   ]
  },
  {
   "cell_type": "markdown",
   "metadata": {},
   "source": [
    "### Paso 4: Calcular la \"Mejor Aproximación\"\n",
    "\n",
    "Si no hubo una coincidencia perfecta, la IA recurre al plan B. Debemos encontrar qué perfil se parece más al del usuario.\n",
    "\n",
    "1.  En la celda de abajo, **asegúrate de que el vector `usuario` sea el vector `b` que tú creaste**.\n",
    "2.  El código comparará tu vector con los tres perfiles base.\n",
    "3.  **Interpreta los resultados:** El valor de similitud más cercano a 1 indica el perfil más parecido."
   ]
  },
  {
   "cell_type": "code",
   "execution_count": null,
   "metadata": {},
   "outputs": [],
   "source": [
    "import numpy as np\n",
    "\n",
    "# MODIFICA ESTA LÍNEA con el vector que calculaste en el Paso 1\n",
    "usuario = np.array([6, 4, 5])\n",
    "\n",
    "# Perfiles base\n",
    "p1_accion = np.array([7, 1, 2])\n",
    "p2_comedia = np.array([1, 8, 1])\n",
    "p3_drama = np.array([2, 2, 7])\n",
    "\n",
    "# --- No es necesario modificar debajo de esta línea ---\n",
    "sim_accion = np.dot(usuario, p1_accion) / (np.linalg.norm(usuario) * np.linalg.norm(p1_accion))\n",
    "sim_comedia = np.dot(usuario, p2_comedia) / (np.linalg.norm(usuario) * np.linalg.norm(p2_comedia))\n",
    "sim_drama = np.dot(usuario, p3_drama) / (np.linalg.norm(usuario) * np.linalg.norm(p3_drama))\n",
    "\n",
    "print(f\"Similitud con Acción: {sim_accion:.4f}\")\n",
    "print(f\"Similitud con Comedia: {sim_comedia:.4f}\")\n",
    "print(f\"Similitud con Drama: {sim_drama:.4f}\")"
   ]
  },
  {
   "cell_type": "markdown",
   "metadata": {},
   "source": [
    "---"
   ]
  },
  {
   "cell_type": "markdown",
   "metadata": {},
   "source": [
    "## ✅ Reporte Final\n",
    "\n",
    "Reúne tus resultados para dar una conclusión.\n",
    "\n",
    "**1. ¿Cuál es el vector `b` que representa la opinión del usuario?**\n",
    "   `Respuesta:`\n",
    "\n",
    "**2. ¿Son los perfiles base linealmente independientes? ¿Cómo lo sabes?**\n",
    "\n",
    "   `Respuesta:`\n",
    "\n",
    "**3. ¿Por qué el sistema no pudo encontrar una \"coincidencia perfecta\" para la opinión del usuario? (Justifica con la RREF)**\n",
    "\n",
    "   `Respuesta:`\n",
    "\n",
    "**4. ¿Cuál es el perfil más similar a la opinión del usuario y qué género le recomendarías?**\n",
    "\n",
    "   `Respuesta:`"
   ]
  }
 ],
 "metadata": {
  "kernelspec": {
   "display_name": "clases",
   "language": "python",
   "name": "python3"
  },
  "language_info": {
   "codemirror_mode": {
    "name": "ipython",
    "version": 3
   },
   "file_extension": ".py",
   "mimetype": "text/x-python",
   "name": "python",
   "nbconvert_exporter": "python",
   "pygments_lexer": "ipython3",
   "version": "3.12.4"
  }
 },
 "nbformat": 4,
 "nbformat_minor": 4
}
